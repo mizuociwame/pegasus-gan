{
  "nbformat": 4,
  "nbformat_minor": 0,
  "metadata": {
    "colab": {
      "name": "torch_PEGASUS_pretrain_Generator.ipynb",
      "provenance": [],
      "collapsed_sections": []
    },
    "kernelspec": {
      "name": "python3",
      "display_name": "Python 3"
    },
    "accelerator": "GPU"
  },
  "cells": [
    {
      "cell_type": "code",
      "metadata": {
        "id": "g2LONgCSHkKo",
        "colab_type": "code",
        "colab": {}
      },
      "source": [
        "# target\n",
        "target = 'horse'\n",
        "\n",
        "# hyper params\n",
        "EPOCHS = (1000, 1000, 1000, 700, 400, 400)\n",
        "BATCH_SIZES = (64, 64, 64, 32, 16, 8)\n",
        "initial_scale = 1.\n",
        "GPU = 0\n",
        "\n",
        "# extension params\n",
        "log_interval = 10\n",
        "display_interval = 100\n",
        "tweet_interval = 100\n",
        "snapshot_interval = 100\n",
        "\n",
        "# model params\n",
        "sa_gamma = 1\n",
        "gen_noise = 5e-2\n",
        "SCALEUP_ALPHA = 0.5\n",
        "START = 0\n",
        "IMG_SIZE = 256\n",
        "LATENT_SIZE = 256\n",
        "\n",
        "# learning controller\n",
        "learning_rate = 1e-4\n",
        "grad_clip = None\n",
        "gen_weight_decay = 0\n",
        "dis_weight_decay = 0\n",
        "sa_endpoint = 500\n",
        "sg_endpoint = 200\n",
        "\n",
        "# file names\n",
        "load_weight = None\n",
        "\n",
        "mount = '.'\n",
        "OUT = '{}/Drive_sync/result/'.format(mount)\n",
        "dataroot = '{}/Drive_sync/picture/torch_dataset'.format(mount)\n",
        "\n",
        "gen_name = '{}_gen'.format(target)\n",
        "dis_name = '{}_dis'.format(target)"
      ],
      "execution_count": 0,
      "outputs": []
    },
    {
      "cell_type": "code",
      "metadata": {
        "colab_type": "code",
        "id": "taibgWsxewAT",
        "colab": {}
      },
      "source": [
        "import numpy as np\n",
        "import io\n",
        "import uuid\n",
        "import tweepy\n",
        "\n",
        "from PIL import Image\n",
        "import matplotlib.pyplot as plt\n",
        "from IPython.display import clear_output\n",
        "\n",
        "import torch\n",
        "import torch.nn as nn\n",
        "import torch.nn.functional as F\n",
        "from torch.nn.utils import spectral_norm, clip_grad_norm_\n",
        "import torch.backends.cudnn as cudnn\n",
        "import torch.optim as optim\n",
        "import torch.utils.data\n",
        "import torchvision.datasets as dset\n",
        "import torchvision.transforms as transforms\n",
        "\n",
        "import twitter_api_key"
      ],
      "execution_count": 0,
      "outputs": []
    },
    {
      "cell_type": "code",
      "metadata": {
        "id": "3sMBmUGbfmmB",
        "colab_type": "code",
        "colab": {}
      },
      "source": [
        "def gaussian(size):\n",
        "    return torch.normal(torch.zeros(size), torch.ones(size))\n",
        "\n",
        "def zeropad(x, ch):\n",
        "    return F.pad(x, (0, 0, 0, 0, 0, ch-x.size(1), 0, 0))\n",
        "\n",
        "def gap(x):\n",
        "    return F.avg_pooling2d(x, x.size()[-2:])\n",
        "\n",
        "def noise_injection(x, k):\n",
        "    return torch.normal(x, instance_var(x)*k)\n",
        "\n",
        "def instance_var(x):\n",
        "    _shape = x.size()\n",
        "    _x = x.view(_shape[0], _shape[1], -1)\n",
        "    _x = torch.var(_x, dim=2)\n",
        "    _x = _x.view(*_x.size(), 1, 1)\n",
        "    _x = _x.expand(*_shape)\n",
        "    return _x\n",
        "\n",
        "def layer_shuffle(x):\n",
        "    _x = x.view(x.size(0), -1, 8, *x.size()[-2:])\n",
        "    _x = torch.transpose(_x, 1,  2)\n",
        "    _x = _x.reshape(*x.size())\n",
        "    return _x"
      ],
      "execution_count": 0,
      "outputs": []
    },
    {
      "cell_type": "code",
      "metadata": {
        "id": "255V-NaDeLIY",
        "colab_type": "code",
        "colab": {}
      },
      "source": [
        "class SNConv(nn.Module):\n",
        "    def __init__(self, in_ch, out_ch, kernel=1, stride=1, padding=0):\n",
        "        super(SNConv, self).__init__()\n",
        "        self.main = nn.Sequential(\n",
        "            nn.LeakyReLU(0.2),\n",
        "            spectral_norm(nn.Conv2d(in_ch, out_ch, kernel, stride, padding))\n",
        "        )\n",
        "    \n",
        "    def forward(self, x):\n",
        "        return self.main(x)"
      ],
      "execution_count": 0,
      "outputs": []
    },
    {
      "cell_type": "code",
      "metadata": {
        "id": "wdvHzeEdlxFV",
        "colab_type": "code",
        "colab": {}
      },
      "source": [
        "class SNDense(nn.Module):\n",
        "    def __init__(self, in_ch, out_ch):\n",
        "        super(SNDense, self).__init__()\n",
        "        self.main = nn.Sequential(\n",
        "            nn.LeakyReLU(0.2),\n",
        "            spectral_norm(nn.Linear(in_ch, out_ch))\n",
        "        )\n",
        "\n",
        "    def forward(self, x):\n",
        "        return self.main(x)"
      ],
      "execution_count": 0,
      "outputs": []
    },
    {
      "cell_type": "code",
      "metadata": {
        "id": "dXQoR6PWcBIj",
        "colab_type": "code",
        "colab": {}
      },
      "source": [
        "class SNInceptionBlock(nn.Module):\n",
        "    def __init__(self, in_ch, mid_ch):\n",
        "        super(SNInceptionBlock, self).__init__()\n",
        "\n",
        "        self.layer_11 = SNConv(in_ch, mid_ch)\n",
        "        self.layer_33 = SNConv(in_ch, mid_ch*2, 3, 1, 1)\n",
        "        self.layer_55 = SNConv(in_ch, mid_ch*2, 5, 1, 2)\n",
        "        self.layer_77 = SNConv(in_ch, mid_ch*3, 7, 1, 3)\n",
        "            \n",
        "    def forward(self, x):\n",
        "        h_11 = self.layer_11(x)\n",
        "        h_33 = self.layer_33(x)\n",
        "        h_55 = self.layer_55(x)\n",
        "        h_77 = self.layer_77(x)\n",
        "        \n",
        "        h = torch.cat((h_11, h_33, h_55, h_77), dim=1)\n",
        "        return h"
      ],
      "execution_count": 0,
      "outputs": []
    },
    {
      "cell_type": "code",
      "metadata": {
        "id": "Uz5PrYJQex1c",
        "colab_type": "code",
        "colab": {}
      },
      "source": [
        "class SelfAttentionBlock(nn.Module):\n",
        "    def __init__(self, in_ch, out_ch, gamma=1.):\n",
        "        super(SelfAttentionBlock, self).__init__()\n",
        "\n",
        "        self.gamma = gamma\n",
        "        self.cf = SNConv(in_ch, out_ch//8)\n",
        "        self.cg = SNConv(in_ch, out_ch//8)\n",
        "        self.ch = SNConv(in_ch, out_ch)\n",
        "        self.softmax = nn.Softmax(2)\n",
        "            \n",
        "    def forward(self, x):\n",
        "        f = self.cf(x)\n",
        "        g = self.cg(x)\n",
        "        h = self.ch(x)\n",
        "        f = f.view(f.size(0), f.size(1), -1)\n",
        "        g = g.view(g.size(0), g.size(1), -1)\n",
        "        h = h.view(h.size(0), h.size(1), -1)\n",
        "        \n",
        "        attention_map = torch.bmm(torch.transpose(f, 1, 2), g)\n",
        "        attention_map = self.softmax(attention_map)\n",
        "        feature_map = torch.bmm(h, torch.transpose(attention_map, 1, 2))\n",
        "        feature_map = feature_map.view(*x.size())\n",
        "\n",
        "        return x + feature_map*self.gamma\n",
        "\n",
        "    def set_gamma(self, gamma):\n",
        "        self.gamma = gamma"
      ],
      "execution_count": 0,
      "outputs": []
    },
    {
      "cell_type": "code",
      "metadata": {
        "id": "-Yv0ZlRisUb6",
        "colab_type": "code",
        "colab": {}
      },
      "source": [
        "class MinibatchDiscrimination(nn.Module):\n",
        "    def __init__(self, kernel, in_ch, kernel_dims, device):\n",
        "        super(MinibatchDiscrimination, self).__init__()\n",
        "        self.device = device\n",
        "        self.kernel = kernel\n",
        "        self.dim = kernel_dims\n",
        "        self.t = spectral_norm(nn.Linear(in_ch, self.kernel*self.dim))\n",
        "\n",
        "    def __call__(self, x):\n",
        "        batchsize = x.size(0)\n",
        "        m = self.t(x).view(batchsize, self.kernel, self.dim, 1)\n",
        "        m_T = torch.transpose(m, 0, 3)\n",
        "        m, m_T = torch.broadcast_tensors(m, m_T)\n",
        "        norm = torch.sum(F.l1_loss(m, m_T, reduction='none'), dim=2)\n",
        "\n",
        "        eraser = torch.eye(batchsize, device=self.device).view(batchsize, 1, batchsize).expand(norm.size())\n",
        "        c_b = torch.exp(-(norm + 1e6 * eraser))\n",
        "        o_b = torch.sum(c_b, dim=2)\n",
        "        h = torch.cat((x, o_b), dim=1)\n",
        "        return h"
      ],
      "execution_count": 0,
      "outputs": []
    },
    {
      "cell_type": "code",
      "metadata": {
        "id": "CzW6AWqpGp8D",
        "colab_type": "code",
        "colab": {}
      },
      "source": [
        "class Discriminator(nn.Module):\n",
        "\n",
        "    def __init__(self, out_ch=2, alpha=0.5, device=None, sa_gamma=1.):\n",
        "        super(Discriminator, self).__init__()\n",
        "        self.alpha = alpha\n",
        "\n",
        "        self.in_256 = spectral_norm(nn.Conv2d(3, 32, 1, 1, 0))\n",
        "        self.layer_256 = nn.Sequential(\n",
        "            SNInceptionBlock(32, 4),\n",
        "            SNConv(32, 64, 4, 2, 1)\n",
        "        )\n",
        "\n",
        "        self.in_128 = spectral_norm(nn.Conv2d(3, 64, 1, 1, 0))\n",
        "        self.layer_128 = nn.Sequential(\n",
        "            SNInceptionBlock(64, 8),\n",
        "            SNConv(64, 128, 4, 2, 1)\n",
        "        )\n",
        "\n",
        "        self.in_64 = spectral_norm(nn.Conv2d(3, 128, 1, 1, 0))\n",
        "        self.layer_64 = nn.Sequential(\n",
        "            SNInceptionBlock(128, 16),\n",
        "            SNConv(128, 256, 4, 2, 1)\n",
        "        )\n",
        "\n",
        "        self.in_32 = spectral_norm(nn.Conv2d(3, 256, 1, 1, 0))\n",
        "        self.layer_32 = nn.Sequential(\n",
        "            SNInceptionBlock(256, 32),\n",
        "            SNConv(256, 512, 4, 2, 1)\n",
        "        )\n",
        "\n",
        "        self.in_16 = spectral_norm(nn.Conv2d(3, 512, 1, 1, 0))\n",
        "        self.layer_16 = nn.Sequential(\n",
        "            SNInceptionBlock(512, 64),\n",
        "            SelfAttentionBlock(512, 512, gamma=sa_gamma),\n",
        "            SNConv(512, 512, 4, 2, 1)\n",
        "        )\n",
        "\n",
        "        self.in_8 =  spectral_norm(nn.Conv2d(3, 512, 1, 1, 0))\n",
        "        self.layer_8 = nn.Sequential(\n",
        "            SNInceptionBlock(512, 64),\n",
        "            SelfAttentionBlock(512, 512, gamma=sa_gamma),\n",
        "            nn.AvgPool2d(8),\n",
        "            nn.Flatten(),\n",
        "            MinibatchDiscrimination(64, 512, 16, device),\n",
        "            SNDense(512+64, out_ch)\n",
        "        )\n",
        "    \n",
        "    def forward(self, x, img_size, delta=None):\n",
        "\n",
        "        if img_size >= 256:\n",
        "            h = self.in_256(x)\n",
        "            h = self.layer_256(h)\n",
        "        else:\n",
        "            h = 0\n",
        "        \n",
        "        if img_size >= 128:\n",
        "            _x = F.avg_pool2d(x, img_size//128)\n",
        "            if img_size == 128:\n",
        "                h = h + self.in_128(_x)\n",
        "            elif delta and img_size == 256:\n",
        "                h = delta * h + (1-delta) * self.in_128(_x)\n",
        "            else:\n",
        "                h = self.alpha * h + (1-self.alpha) * self.in_128(_x)\n",
        "            h = self.layer_128(h)\n",
        "        \n",
        "        if img_size >= 64:\n",
        "            _x = F.avg_pool2d(x, img_size//64)\n",
        "            if img_size == 64:\n",
        "                h = h + self.in_64(_x)\n",
        "            elif delta and img_size == 128:\n",
        "                h = delta * h + (1-delta) * self.in_64(_x)\n",
        "            else:\n",
        "                h = self.alpha * h + (1-self.alpha) * self.in_64(_x)\n",
        "            h = self.layer_64(h)\n",
        "        \n",
        "        if img_size >= 32:\n",
        "            _x = F.avg_pool2d(x, img_size//32)\n",
        "            if img_size == 32:\n",
        "                h = h + self.in_32(_x)\n",
        "            elif delta and img_size == 64:\n",
        "                h = delta * h + (1-delta) *  self.in_32(_x)\n",
        "            else:\n",
        "                h = self.alpha * h + (1-self.alpha) * self.in_32(_x)\n",
        "            h = self.layer_32(h)\n",
        "        \n",
        "        if img_size >= 16:\n",
        "            _x = F.avg_pool2d(x, img_size//16)\n",
        "            if img_size == 16:\n",
        "                h = h + self.in_16(_x)\n",
        "            elif delta and img_size == 32:\n",
        "                h = delta * h + (1-delta) * self.in_16(_x)\n",
        "            else:\n",
        "                h = self.alpha * h + (1-self.alpha) * self.in_16(_x)\n",
        "            h = self.layer_16(h)\n",
        "\n",
        "        _x = F.avg_pool2d(x, img_size//8)\n",
        "        if img_size == 8:\n",
        "            h = h + self.in_8(_x)\n",
        "        elif delta and img_size == 16:\n",
        "            h = delta * h + (1-delta) * self.in_8(_x)\n",
        "        else:\n",
        "            h = self.alpha * h + (1-self.alpha) * self.in_8(_x)\n",
        "        h = self.layer_8(h)\n",
        "        return h\n",
        "\n",
        "    def set_gamma(self, gamma, img_size):\n",
        "        if img_size == 8:\n",
        "            self.layer_8[1].set_gamma(gamma)\n",
        "        if img_size == 16:\n",
        "            self.layer_16[1].set_gamma(gamma)"
      ],
      "execution_count": 0,
      "outputs": []
    },
    {
      "cell_type": "code",
      "metadata": {
        "id": "9rmDB54OEsrD",
        "colab_type": "code",
        "colab": {}
      },
      "source": [
        "class Conv(nn.Module):\n",
        "    def __init__(self, in_ch, out_ch, kernel=1, stride=1, padding=0):\n",
        "        super(Conv, self).__init__()\n",
        "        self.main = nn.Sequential(\n",
        "            nn.LeakyReLU(0.2),\n",
        "            nn.Conv2d(in_ch, out_ch, kernel, stride, padding),\n",
        "            nn.BatchNorm2d(out_ch)\n",
        "        )\n",
        "    \n",
        "    def forward(self, x):\n",
        "        return self.main(x)"
      ],
      "execution_count": 0,
      "outputs": []
    },
    {
      "cell_type": "code",
      "metadata": {
        "id": "5SroXS2jE_v6",
        "colab_type": "code",
        "colab": {}
      },
      "source": [
        "class Dense(nn.Module):\n",
        "    def __init__(self, in_ch, out_ch):\n",
        "        super(Dense, self).__init__()\n",
        "        self.main = nn.Sequential(\n",
        "            nn.LeakyReLU(0.2),\n",
        "            nn.Linear(in_ch, out_ch)\n",
        "        )\n",
        "\n",
        "    def forward(self, x):\n",
        "        return self.main(x)"
      ],
      "execution_count": 0,
      "outputs": []
    },
    {
      "cell_type": "code",
      "metadata": {
        "id": "UGvG1JXPvr7A",
        "colab_type": "code",
        "colab": {}
      },
      "source": [
        "class Affine(nn.Module):\n",
        "    def __init__(self, in_ch, mid_ch=64, w_ch=128):\n",
        "        super(Affine, self).__init__()\n",
        "        \n",
        "        self.main = nn.Sequential(\n",
        "            Dense(in_ch, mid_ch),\n",
        "            Dense(mid_ch, mid_ch),\n",
        "            Dense(mid_ch, mid_ch),\n",
        "            Dense(mid_ch, mid_ch),\n",
        "            Dense(mid_ch, mid_ch),\n",
        "            Dense(mid_ch, mid_ch),\n",
        "            Dense(mid_ch, mid_ch),\n",
        "            Dense(mid_ch, w_ch)\n",
        "        )\n",
        "\n",
        "    def forward(self, x):\n",
        "        return self.main(x)"
      ],
      "execution_count": 0,
      "outputs": []
    },
    {
      "cell_type": "code",
      "metadata": {
        "id": "_KdRypCUwmjb",
        "colab_type": "code",
        "colab": {}
      },
      "source": [
        "class AdaIN(nn.Module):\n",
        "    def __init__(self, in_ch, out_ch):\n",
        "        super(AdaIN, self).__init__()\n",
        "\n",
        "        self.average_convert = Dense(in_ch, out_ch)\n",
        "        self.bias_convert = Dense(in_ch, out_ch)\n",
        "\n",
        "    def forward(self, x, w):\n",
        "        h = F.instance_norm(x)\n",
        "        a = self.average_convert(w)\n",
        "        a = a.view(*a.size(), 1, 1).expand(*h.size())\n",
        "        b = self.bias_convert(w)\n",
        "        b = b.view(*b.size(), 1, 1).expand(*h.size())\n",
        "        return h * a + b"
      ],
      "execution_count": 0,
      "outputs": []
    },
    {
      "cell_type": "code",
      "metadata": {
        "id": "By7GhkDdFG_b",
        "colab_type": "code",
        "colab": {}
      },
      "source": [
        "class InceptionBlock(nn.Module):\n",
        "    def __init__(self, in_ch, mid_ch):\n",
        "        super(InceptionBlock, self).__init__()\n",
        "\n",
        "        self.layer_11 = Conv(in_ch, mid_ch)\n",
        "        self.layer_33 = Conv(in_ch, mid_ch*2, 3, 1, 1)\n",
        "        self.layer_55 = Conv(in_ch, mid_ch*2, 5, 1, 2)\n",
        "        self.layer_77 = Conv(in_ch, mid_ch*3, 7, 1, 3)\n",
        "            \n",
        "    def forward(self, x):\n",
        "        h_11 = self.layer_11(x)\n",
        "        h_33 = self.layer_33(x)\n",
        "        h_55 = self.layer_55(x)\n",
        "        h_77 = self.layer_77(x)\n",
        "        \n",
        "        h = torch.cat((h_11, h_33, h_55, h_77), dim=1)\n",
        "        return h"
      ],
      "execution_count": 0,
      "outputs": []
    },
    {
      "cell_type": "code",
      "metadata": {
        "id": "Eo2Rk_jFc7Oz",
        "colab_type": "code",
        "colab": {}
      },
      "source": [
        "class ResBlock(nn.Module):\n",
        "    def __init__(self, in_ch, out_ch, latent_w):\n",
        "        super(ResBlock, self).__init__()\n",
        "        self.ch_1 = in_ch*3//2\n",
        "        self.ch_2 = in_ch*2\n",
        "\n",
        "        self.inception_1 = InceptionBlock(in_ch, in_ch*3//16)\n",
        "        self.adain_1 = AdaIN(latent_w, self.ch_1)\n",
        "\n",
        "        self.inception_2 = InceptionBlock(self.ch_1, in_ch//4)\n",
        "        self.adain_2 = AdaIN(latent_w, self.ch_2)\n",
        "\n",
        "        self.c = Conv(self.ch_2, out_ch)\n",
        "        self.c_out = Conv(self.ch_2, 3)\n",
        "            \n",
        "    def forward(self, x, w1, w2, noise=None):\n",
        "        _h = noise_injection(x, noise) if noise else x\n",
        "        _h = self.inception_1(_h)\n",
        "        _h = layer_shuffle(_h)\n",
        "        h = zeropad(x, self.ch_1)\n",
        "        h = h + _h\n",
        "        h = self.adain_1(h, w1)\n",
        "\n",
        "        _h = noise_injection(h, noise) if noise else h\n",
        "        _h = self.inception_2(_h)\n",
        "        _h = layer_shuffle(_h)\n",
        "        h = zeropad(h, self.ch_2)\n",
        "        h = h + _h\n",
        "        _h = self.adain_2(h, w1)\n",
        "\n",
        "        h = self.c(_h)\n",
        "        out = self.c_out(_h)\n",
        "        return h, out"
      ],
      "execution_count": 0,
      "outputs": []
    },
    {
      "cell_type": "code",
      "metadata": {
        "id": "UKEhOWEuFqEm",
        "colab_type": "code",
        "colab": {}
      },
      "source": [
        "class Generator(nn.Module):\n",
        "\n",
        "    def __init__(self, latent_size, alpha=0.5, noise=None, device=None):\n",
        "        super(Generator, self).__init__()\n",
        "        self.noise = noise\n",
        "        self.device = device\n",
        "        self.alpha = alpha\n",
        "        self.latent_size = latent_size\n",
        "\n",
        "        self.btm = nn.Linear(self.latent_size, 512*8*8)\n",
        "        self.affine = Affine(self.latent_size, self.latent_size, self.latent_size)\n",
        "        \n",
        "        self.res5 = ResBlock(512, 512, self.latent_size)\n",
        "        self.res4 = ResBlock(512, 256, self.latent_size)\n",
        "        self.res3 = ResBlock(256, 128, self.latent_size)\n",
        "        self.res2 = ResBlock(128, 64, self.latent_size)\n",
        "        self.res1 = ResBlock(64, 32, self.latent_size)\n",
        "        self.res0 = ResBlock(32, 16, self.latent_size)\n",
        "\n",
        "        self.upbi = nn.Upsample(scale_factor=2, mode='bilinear', align_corners=True)\n",
        "    \n",
        "    def forward(self, x, img_size, delta=None):\n",
        "        h = self.affine(x)\n",
        "        h = self.btm(h).view(-1, 512, 8, 8)\n",
        "        w1 = self.affine(gaussian((x.size(0), self.latent_size)).to(self.device))\n",
        "        w2 = self.affine(gaussian((x.size(0), self.latent_size)).to(self.device))\n",
        "        h, out = self.res5(h, w1, w2, self.noise)\n",
        "        \n",
        "        if img_size >= 16:\n",
        "            h = self.upbi(h)\n",
        "            w1 = self.affine(gaussian((x.size(0), self.latent_size)).to(self.device))\n",
        "            w2 = self.affine(gaussian((x.size(0), self.latent_size)).to(self.device))\n",
        "            h, _out = self.res4(h, w1, w2, self.noise)\n",
        "            if delta and img_size == 16:\n",
        "                out = (1-delta) * self.upbi(out) + delta * _out\n",
        "            else:\n",
        "                out = (1-self.alpha) * self.upbi(out) + self.alpha * _out\n",
        "        \n",
        "        if img_size >= 32:\n",
        "            h = self.upbi(h)\n",
        "            w1 = self.affine(gaussian((x.size(0), self.latent_size)).to(self.device))\n",
        "            w2 = self.affine(gaussian((x.size(0), self.latent_size)).to(self.device))\n",
        "            h, _out = self.res3(h, w1, w2, self.noise)\n",
        "            if delta and img_size == 32:\n",
        "                out = (1-delta) * self.upbi(out) + delta * _out\n",
        "            else:\n",
        "                out = (1-self.alpha) * self.upbi(out) + self.alpha * _out\n",
        "        \n",
        "        if img_size >= 64:\n",
        "            h = self.upbi(h)\n",
        "            w1 = self.affine(gaussian((x.size(0), self.latent_size)).to(self.device))\n",
        "            w2 = self.affine(gaussian((x.size(0), self.latent_size)).to(self.device))\n",
        "            h, _out = self.res2(h, w1, w2, self.noise)\n",
        "            if delta and img_size == 64:\n",
        "                out = (1-delta) * self.upbi(out) + delta * _out\n",
        "            else:\n",
        "                out = (1-self.alpha) * self.upbi(out) + self.alpha * _out\n",
        "        \n",
        "        if img_size >= 128:\n",
        "            h = self.upbi(h)\n",
        "            w1 = self.affine(gaussian((x.size(0), self.latent_size)).to(self.device))\n",
        "            w2 = self.affine(gaussian((x.size(0), self.latent_size)).to(self.device))\n",
        "            h, _out = self.res1(h, w1, w2, self.noise)\n",
        "            if delta and img_size == 128:\n",
        "                out = (1-delta) * self.upbi(out) + delta * _out\n",
        "            else:\n",
        "                out = (1-self.alpha) * self.upbi(out) + self.alpha * _out\n",
        "        \n",
        "        if img_size >= 256:\n",
        "            h = self.upbi(h)\n",
        "            w1 = self.affine(gaussian((x.size(0), self.latent_size)).to(self.device))\n",
        "            w2 = self.affine(gaussian((x.size(0), self.latent_size)).to(self.device))\n",
        "            h, _out = self.res0(h, w1, w2, self.noise)\n",
        "            if delta and img_size == 256:\n",
        "                out = (1-delta) * self.upbi(out) + delta * _out\n",
        "            else:\n",
        "                out = (1-self.alpha) * self.upbi(out) + self.alpha * _out\n",
        "\n",
        "        return F.tanh(out)"
      ],
      "execution_count": 0,
      "outputs": []
    },
    {
      "cell_type": "code",
      "metadata": {
        "id": "6RvlFlUWVgCp",
        "colab_type": "code",
        "colab": {}
      },
      "source": [
        "device = torch.device(\"cuda:{}\".format(GPU))"
      ],
      "execution_count": 0,
      "outputs": []
    },
    {
      "cell_type": "code",
      "metadata": {
        "id": "QjzxAjvT6VPb",
        "colab_type": "code",
        "colab": {}
      },
      "source": [
        "def weights_init(m):\n",
        "    if type(m) in (nn.Linear, nn.Conv2d):\n",
        "        nn.init.xavier_normal_(m.weight, gain=initial_scale)\n",
        "        m.bias.data.fill_(0)\n",
        "    elif type(m) == nn.BatchNorm2d:\n",
        "        nn.init.normal_(m.weight.data, 1.0, 0.02)\n",
        "        nn.init.constant_(m.bias.data, 0)"
      ],
      "execution_count": 0,
      "outputs": []
    },
    {
      "cell_type": "code",
      "metadata": {
        "id": "zOCsFkxT8yAp",
        "colab_type": "code",
        "colab": {}
      },
      "source": [
        "gen = Generator(LATENT_SIZE, alpha=SCALEUP_ALPHA, noise=gen_noise, device=device)\n",
        "dis = Discriminator(out_ch=1, alpha=SCALEUP_ALPHA, device=device, sa_gamma=sa_gamma)\n",
        "\n",
        "if load_weight:\n",
        "    gen.load_state_dict(torch.load(OUT+'{}_{}px_{}epoch.pkl'.format(gen_name, *load_weight)))\n",
        "    gen.eval()\n",
        "    dis.load_state_dict(torch.load(OUT+'{}_{}px_{}epoch.pkl'.format(dis_name, *load_weight)))\n",
        "    dis.eval()\n",
        "else:\n",
        "    gen.apply(weights_init)\n",
        "    dis.apply(weights_init)\n",
        "\n",
        "gen.to(device)\n",
        "dis.to(device)"
      ],
      "execution_count": 0,
      "outputs": []
    },
    {
      "cell_type": "code",
      "metadata": {
        "id": "Rh2tOT6nbjxk",
        "colab_type": "code",
        "colab": {}
      },
      "source": [
        "opt_gen = optim.Adam(\n",
        "    gen.parameters(),\n",
        "    lr=learning_rate,\n",
        "    betas=(0.5, 0.999),\n",
        "    weight_decay=gen_weight_decay\n",
        "    )\n",
        "opt_dis = optim.Adam(\n",
        "    dis.parameters(),\n",
        "    lr=learning_rate,\n",
        "    betas=(0.5, 0.999),\n",
        "    weight_decay=dis_weight_decay\n",
        "    )"
      ],
      "execution_count": 0,
      "outputs": []
    },
    {
      "cell_type": "code",
      "metadata": {
        "id": "mWIg15KG17lE",
        "colab_type": "code",
        "colab": {}
      },
      "source": [
        "gen_losses = list()\n",
        "dis_losses = list()"
      ],
      "execution_count": 0,
      "outputs": []
    },
    {
      "cell_type": "code",
      "metadata": {
        "id": "1qBbx84zdKHR",
        "colab_type": "code",
        "colab": {}
      },
      "source": [
        "if tweet_interval:\n",
        "    auth = tweepy.OAuthHandler(twitter_api_key.CONSUMER_KEY, twitter_api_key.CONSUMER_SECRET)\n",
        "    auth.set_access_token(twitter_api_key.ACCESS_TOKEN_KEY, twitter_api_key.ACCESS_TOKEN_SECRET)\n",
        "    api = tweepy.API(auth)"
      ],
      "execution_count": 0,
      "outputs": []
    },
    {
      "cell_type": "code",
      "metadata": {
        "id": "WvPMnP12KDyZ",
        "colab_type": "code",
        "colab": {}
      },
      "source": [
        "def report_log(i, epoch, g_loss, d_loss, g_mean, d_real_mean, d_fake_mean):\n",
        "    print('[{}/{}]\\tLoss_D: {:.4f}\\tLoss_G: {:.4f}\\tD(x): {:.4f}\\tD(G(z)): {:.4f}/{:.4f}'.format(\n",
        "        i, epoch, d_loss, g_loss, d_real_mean, d_fake_mean, g_mean\n",
        "    ))\n",
        "    gen_losses.append(g_loss)\n",
        "    dis_losses.append(d_loss)"
      ],
      "execution_count": 0,
      "outputs": []
    },
    {
      "cell_type": "code",
      "metadata": {
        "id": "yLOB11ezFNMk",
        "colab_type": "code",
        "colab": {}
      },
      "source": [
        "def make_image(gen, img_size, delta, device):\n",
        "    clear_output()\n",
        "    with torch.no_grad():\n",
        "        generated = gen(gaussian((8, LATENT_SIZE)).to(device), img_size, delta).detach().cpu()\n",
        "    generated = np.transpose(np.reshape(generated, (-1, 3, img_size, img_size)), (0, 2, 3, 1))\n",
        "\n",
        "    plt.figure(figsize=(16, 8))\n",
        "        \n",
        "    for i, img in enumerate(generated):\n",
        "        plt.subplot(2, 4, i+1).axis('off')\n",
        "        plt.subplot(2, 4, i+1).imshow(Image.fromarray(np.uint8((img+1.)/2. *255.)))\n",
        "\n",
        "    plt.show()"
      ],
      "execution_count": 0,
      "outputs": []
    },
    {
      "cell_type": "code",
      "metadata": {
        "id": "MLZoVZoMey7K",
        "colab_type": "code",
        "colab": {}
      },
      "source": [
        "def image_upload(image_array, api):\n",
        "    bin_io = io.BytesIO()\n",
        "    img = Image.fromarray(np.uint8((image_array+1.)/2. *255.))\n",
        "    img = img.resize((256, 256))\n",
        "    img.save(bin_io, format='JPEG')\n",
        "    result = api.media_upload(filename='{}_generated_{}.jpg'.format(target, uuid.uuid4()), file=bin_io)\n",
        "    return result.media_id"
      ],
      "execution_count": 0,
      "outputs": []
    },
    {
      "cell_type": "code",
      "metadata": {
        "id": "myBTJoApd-lE",
        "colab_type": "code",
        "colab": {}
      },
      "source": [
        "def post_image(gen, api, img_size, epoch, delta, device):\n",
        "    with torch.no_grad():\n",
        "        generated = gen(gaussian((4, LATENT_SIZE)).to(device), img_size, delta).detach().cpu()\n",
        "    generated = np.transpose(np.reshape(generated, (-1, 3, img_size, img_size)), (0, 2, 3, 1))\n",
        "\n",
        "    try:\n",
        "        img_ids = [image_upload(img, api) for img in generated]\n",
        "        hash_tags = ['AIでペガサスを作る',\n",
        "                    'epoch: {}'.format(epoch),\n",
        "                    '#makeing{}'.format(target),\n",
        "                    '#nowlearning...',\n",
        "                    '#AI',\n",
        "                    '#人工知能',\n",
        "                    '#DeepLearning',\n",
        "                    '#GAN']\n",
        "\n",
        "        api.update_status(\n",
        "            status='\\n'.join(hash_tags),\n",
        "            media_ids=img_ids\n",
        "            )\n",
        "    except:\n",
        "        pass"
      ],
      "execution_count": 0,
      "outputs": []
    },
    {
      "cell_type": "code",
      "metadata": {
        "id": "3u84LrAZ6Fm3",
        "colab_type": "code",
        "colab": {}
      },
      "source": [
        "def save_model(gen, dis, img_size, epoch):\n",
        "    torch.save(gen.state_dict(), OUT+'{}_{}px_{}epoch.pkl'.format(gen_name, img_size, epoch))\n",
        "    torch.save(dis.state_dict(), OUT+'{}_{}px_{}epoch.pkl'.format(dis_name, img_size, epoch))"
      ],
      "execution_count": 0,
      "outputs": []
    },
    {
      "cell_type": "code",
      "metadata": {
        "id": "uyoRMEDz8DUA",
        "colab_type": "code",
        "colab": {}
      },
      "source": [
        "def report_result():\n",
        "    plt.figure(figsize=(16, 8))\n",
        "    plt.plot(gen_losses,label=\"G\")\n",
        "    plt.plot(dis_losses,label=\"D\")\n",
        "    plt.xlabel(\"iterations\")\n",
        "    plt.ylabel(\"Loss\")\n",
        "    plt.legend()\n",
        "    plt.show()"
      ],
      "execution_count": 0,
      "outputs": []
    },
    {
      "cell_type": "code",
      "metadata": {
        "id": "V2qg08QSICrY",
        "colab_type": "code",
        "colab": {}
      },
      "source": [
        "def round_dataset(gen, dis, opt_gen, opt_dis, dataloader, img_size, delta, device):\n",
        "    loss_fun = nn.MSELoss()\n",
        "    for i, data in enumerate(dataloader, 0):\n",
        "        dis.zero_grad()\n",
        "        x_real = data[0].to(device)\n",
        "        b_size = x_real.size(0)\n",
        "        y_real = dis(x_real, img_size, delta).view(-1)\n",
        "        real_loss = loss_fun(y_real, torch.ones(*y_real.size(), device=device))\n",
        "        real_loss.backward()\n",
        "\n",
        "        x_fake = gen(gaussian((b_size, LATENT_SIZE)).to(device), img_size, delta)\n",
        "        y_fake = dis(x_fake.detach(), img_size, delta).view(-1)\n",
        "        fake_loss = loss_fun(y_fake, torch.zeros(*y_fake.size(), device=device))\n",
        "        fake_loss.backward()\n",
        "\n",
        "        if grad_clip:\n",
        "            clip_grad_norm_(dis.parameters(), grad_clip)\n",
        "        dis_loss = real_loss + fake_loss\n",
        "        opt_dis.step()\n",
        "        \n",
        "        gen.zero_grad()\n",
        "        y_gen = dis(x_fake, img_size, delta).view(-1)\n",
        "        gen_loss = loss_fun(y_gen, torch.ones(*y_gen.size(), device=device))\n",
        "        gen_loss.backward()\n",
        "\n",
        "        if grad_clip:\n",
        "            clip_grad_norm_(gen.parameters(), grad_clip)\n",
        "        opt_gen.step()\n",
        "\n",
        "    return gen_loss.item(), dis_loss.item(), y_gen.mean().item(), y_real.mean().item(), y_fake.mean().item()"
      ],
      "execution_count": 0,
      "outputs": []
    },
    {
      "cell_type": "code",
      "metadata": {
        "id": "7ZR5sYeZJI9T",
        "colab_type": "code",
        "colab": {}
      },
      "source": [
        "def train_loop(gen, dis, opt_gen, opt_dis, dataloader, epoch, img_size, device):\n",
        "    for i in range(epoch):\n",
        "        if img_size <= 16 and i <= sa_endpoint:\n",
        "            gamma = sa_gamma*i/sa_endpoint\n",
        "            dis.set_gamma(gamma, img_size)\n",
        "\n",
        "        if i <= sg_endpoint:\n",
        "            delta = SCALEUP_ALPHA*i/sg_endpoint\n",
        "            delta = delta if delta != 0 else 1e-6\n",
        "        else:\n",
        "            delta = None\n",
        "\n",
        "        log = round_dataset(gen, dis, opt_gen, opt_dis, dataloader, img_size, delta, device)\n",
        "\n",
        "        if i % display_interval == 0:\n",
        "            make_image(gen, img_size, delta, device)\n",
        "\n",
        "        if i % log_interval == 0:\n",
        "            report_log(i, epoch, *log)\n",
        "\n",
        "        if tweet_interval and i % tweet_interval == 0:\n",
        "            post_image(gen, api, img_size, i, delta, device)\n",
        "        \n",
        "        if snapshot_interval and i % snapshot_interval == 0:\n",
        "            save_model(gen, dis, img_size, i)"
      ],
      "execution_count": 0,
      "outputs": []
    },
    {
      "cell_type": "code",
      "metadata": {
        "id": "c5K3OZn2JhGW",
        "colab_type": "code",
        "colab": {}
      },
      "source": [
        "def upscaling(gen, dis, opt_gen, opt_dis, device):\n",
        "    img_size = 8*2**START\n",
        "    for epoch, batch_size in zip(EPOCHS[START:], BATCH_SIZES[START:]):\n",
        "        dataset = dset.ImageFolder(root=dataroot,\n",
        "                                   transform=transforms.Compose([\n",
        "                                                                 transforms.Resize(img_size),\n",
        "                                                                 transforms.CenterCrop(img_size),\n",
        "                                                                 transforms.RandomHorizontalFlip(),\n",
        "                                                                 transforms.ToTensor(),\n",
        "                                                                 transforms.Normalize((0.5, 0.5, 0.5), (0.5, 0.5, 0.5))\n",
        "                                                                 ]))\n",
        "        dataloader = torch.utils.data.DataLoader(dataset, batch_size=batch_size, shuffle=True)\n",
        "        train_loop(gen, dis, opt_gen, opt_dis, dataloader, epoch, img_size, device)\n",
        "        img_size = img_size*2\n",
        "    report_result()"
      ],
      "execution_count": 0,
      "outputs": []
    },
    {
      "cell_type": "code",
      "metadata": {
        "id": "HefwIhPNI4hL",
        "colab_type": "code",
        "outputId": "dccb4528-00fa-4559-8c21-fa23ef02fb57",
        "colab": {
          "base_uri": "https://localhost:8080/",
          "height": 615
        }
      },
      "source": [
        "upscaling(gen, dis, opt_gen, opt_dis, device)"
      ],
      "execution_count": 0,
      "outputs": [
        {
          "output_type": "display_data",
          "data": {
            "text/plain": [
              "<Figure size 1152x576 with 8 Axes>"
            ],
            "image/png": "[encoded data removed]"
          },
          "metadata": {
            "tags": [],
            "needs_background": "light"
          }
        },
        {
          "output_type": "stream",
          "text": [
            "[200/1000]\tLoss_D: 0.3905\tLoss_G: 0.3789\tD(x): 0.6580\tD(G(z)): 0.4811/0.4131\n",
            "[210/1000]\tLoss_D: 0.2854\tLoss_G: 0.4110\tD(x): 0.6388\tD(G(z)): 0.3649/0.3701\n",
            "[220/1000]\tLoss_D: 0.3288\tLoss_G: 0.6152\tD(x): 0.4980\tD(G(z)): 0.2329/0.2258\n",
            "[230/1000]\tLoss_D: 0.3370\tLoss_G: 0.5138\tD(x): 0.5497\tD(G(z)): 0.3248/0.2975\n",
            "[240/1000]\tLoss_D: 0.3313\tLoss_G: 0.4366\tD(x): 0.6507\tD(G(z)): 0.4260/0.3530\n",
            "[250/1000]\tLoss_D: 0.3175\tLoss_G: 0.4855\tD(x): 0.5708\tD(G(z)): 0.3311/0.3128\n",
            "[260/1000]\tLoss_D: 0.2824\tLoss_G: 0.6085\tD(x): 0.5577\tD(G(z)): 0.2511/0.2311\n",
            "[270/1000]\tLoss_D: 0.3088\tLoss_G: 0.4355\tD(x): 0.6618\tD(G(z)): 0.4263/0.3469\n",
            "[280/1000]\tLoss_D: 0.3435\tLoss_G: 0.4007\tD(x): 0.5723\tD(G(z)): 0.3618/0.3724\n"
          ],
          "name": "stdout"
        }
      ]
    },
    {
      "cell_type": "code",
      "metadata": {
        "id": "cwqzasKfBlk5",
        "colab_type": "code",
        "colab": {}
      },
      "source": [
        "make_image(gen, 256, device)"
      ],
      "execution_count": 0,
      "outputs": []
    }
  ]
}